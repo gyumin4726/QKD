{
 "cells": [
  {
   "cell_type": "code",
   "execution_count": 1,
   "id": "a36898b4",
   "metadata": {},
   "outputs": [],
   "source": [
    "import numpy as np\n",
    "import pandas as pd\n",
    "import matplotlib.pyplot as plt\n",
    "import seaborn as sns\n",
    "from adjustText import adjust_text\n",
    "\n",
    "import sys\n",
    "\n",
    "import pygad\n",
    "import time\n",
    "\n",
    "from tqdm import tqdm\n",
    "\n",
    "from itertools import product\n",
    "\n",
    "import optuna\n",
    "\n",
    "import warnings\n",
    "warnings.filterwarnings('ignore')\n"
   ]
  },
  {
   "cell_type": "code",
   "execution_count": null,
   "id": "78315c29",
   "metadata": {},
   "outputs": [],
   "source": [
    "eta_d = 4.5 / 100                     # detection efficiency of single-photon detector (%)\n",
    "Y_0 = 1.7e-6\n",
    "e_d = 3.3 / 100                       # misalignment rate\n",
    "alpha = 0.21                          # attenuation coefficient of single-mode fiber\n",
    "zeta = 1.22                           # efficiency of error correction\n",
    "eps_sec = 1e-10\n",
    "eps_cor = 1e-15\n",
    "N = 1e10                              # number of optical pulses sent by Alice\n",
    "\n",
    "eps = eps_sec/23                 \n",
    "beta = np.log(1/eps)\n",
    "\n",
    "Lambda = None                          # probability of bit value 1 observed in Xk\n",
    "L = 100                                # fiber length (0~110)\n",
    "e_0 = 0.5                              # ref 23 참고, error rate of the background, background가 랜덤한 경우 가정"
   ]
  },
  {
   "cell_type": "code",
   "execution_count": 3,
   "id": "e1745550",
   "metadata": {},
   "outputs": [],
   "source": [
    "def normalize_p(vec) :\n",
    "\n",
    "    copy_vec = vec[:].copy()\n",
    "\n",
    "    sum_vec = np.sum(copy_vec[3:6])\n",
    "    copy_vec[3:6] /= sum_vec\n",
    "    return copy_vec\n",
    "\n",
    "def h(x) :\n",
    "    return -x * np.log2(x) - (1 - x)*np.log2(1 - x)"
   ]
  },
  {
   "cell_type": "code",
   "execution_count": null,
   "id": "f9962a21",
   "metadata": {},
   "outputs": [],
   "source": [
    "def calc_SKR(ga_instance, solution, solution_idx) :\n",
    "\n",
    "    sol = normalize_p(solution)\n",
    "    mu, nu, vac, p_mu, p_nu, p_vac, p_X, q_X = sol\n",
    "\n",
    "    p_Z = 1 - p_X\n",
    "    q_Z = 1 - q_X\n",
    "\n",
    "    if mu <= nu : \n",
    "        return -10\n",
    "\n",
    "    eta = eta_d * 10 ** (-alpha*L/10)\n",
    "\n",
    "    Q_mu = 1 - (1 - Y_0) * np.exp(-mu * eta)\n",
    "    Q_nu = 1 - (1 - Y_0) * np.exp(-nu * eta)\n",
    "    Q_vac = 1 - (1 - Y_0) * np.exp(-vac * eta)\n",
    "\n",
    "    n_mu_Z = N * p_mu * p_Z * q_Z * Q_mu\n",
    "    n_nu_Z = N * p_nu * p_Z * q_Z * Q_nu\n",
    "    n_vac_Z = N * p_vac * p_Z * q_Z * Q_vac\n",
    "\n",
    "    n_mu_X = N * p_mu * p_X * q_X * Q_mu\n",
    "    n_nu_X = N * p_nu * p_X * q_X * Q_nu\n",
    "    n_vac_X = N * p_vac * p_X * q_X * Q_vac\n",
    "\n",
    "    if (n_mu_Z<0) or (n_nu_Z<0) or (n_vac_Z<0) or (n_mu_X<0) or (n_nu_X<0) or (n_vac_X<0) :\n",
    "        return -8\n",
    "    \n",
    "    m_mu_Z = N * p_mu * p_Z * q_Z * (e_d * Q_mu + (e_0 - e_d)*Y_0)\n",
    "    m_nu_Z = N * p_nu * p_Z * q_Z * (e_d * Q_nu + (e_0 - e_d)*Y_0)\n",
    "    m_nu_X = N * p_nu * p_X * q_X * (e_d * Q_nu + (e_0 - e_d)*Y_0)\n",
    "\n",
    "    if (m_mu_Z<0) or (m_nu_Z<0) or (m_nu_X<0) :\n",
    "        return -8\n",
    "    \n",
    "    # Z-basis lower bound\n",
    "    n_0_z_L_ex = n_vac_Z - beta/2-np.sqrt(2*beta*n_vac_Z+beta**2/4)\n",
    "    n_nu_z_L_ex = n_nu_Z - beta/2-np.sqrt(2*beta*n_nu_Z+beta**2/4)\n",
    "\n",
    "    # Z-basis upper bound\n",
    "    n_mu_z_U_ex = n_mu_Z + beta+np.sqrt(2*beta*n_mu_Z+beta**2)\n",
    "    n_0_z_U_ex = n_vac_Z + beta+np.sqrt(2*beta*n_vac_Z+beta**2)\n",
    "\n",
    "    # X-basis lower bound\n",
    "    n_0_x_L_ex = n_vac_X - beta/2-np.sqrt(2*beta*n_vac_X+beta**2/4)\n",
    "    n_nu_x_L_ex = n_nu_X - beta/2-np.sqrt(2*beta*n_nu_X+beta**2/4)                 \n",
    "\n",
    "    # X-basis upper bound\n",
    "    n_mu_x_U_ex = n_mu_X + beta+np.sqrt(2*beta*n_mu_X+beta**2)\n",
    "    n_0_x_U_ex = n_vac_X + beta+np.sqrt(2*beta*n_vac_X+beta**2)\n",
    "\n",
    "    # error upper bound\n",
    "    m_nu_x_U_ex = m_nu_X + beta+np.sqrt(2*beta*m_nu_X+beta**2)\n",
    "\n",
    "    if (n_0_z_L_ex<0) or (n_nu_z_L_ex<0) or (n_mu_z_U_ex<0) or (n_0_z_U_ex<0) or (n_0_x_L_ex<0) or (n_nu_x_L_ex<0) or (n_mu_x_U_ex<0) or (n_0_x_U_ex<0) or (m_nu_x_U_ex<0) :\n",
    "        return -7\n",
    "    \n",
    "    # lower bound on the expected number of vacuum event\n",
    "    S_0_Z_L_ex = (np.exp(-mu)*p_mu+np.exp(-nu)*p_nu)*p_Z*n_0_z_L_ex/p_vac\n",
    "    # lower bound on the expected number of single photon event\n",
    "    S_1_Z_L_ex = (mu**2*np.exp(-mu)*p_mu+mu*nu*np.exp(-nu)*p_nu)/(mu*nu-nu**2)*(np.exp(nu)*n_nu_z_L_ex/p_nu-nu**2/mu**2*np.exp(mu)*n_mu_z_U_ex/p_mu-(mu**2-nu**2)/mu**2*p_Z*n_0_z_U_ex/p_vac)\n",
    "    # lower bound on the expected number of single-photon events\n",
    "    S_1_X_L_ex = (mu**2*np.exp(-mu)*p_mu+mu*nu*np.exp(-nu)*p_nu)/(mu*nu-nu**2)*(np.exp(nu)*n_nu_x_L_ex/p_nu-nu**2/mu**2*np.exp(mu)*n_mu_x_U_ex/p_mu-(mu**2-nu**2)/mu**2*p_X*n_0_x_U_ex/p_vac)\n",
    "    # upper bound on the expected number of bit error\n",
    "    T_1_X_U_ex = ((mu*np.exp(-mu)*p_mu+nu*np.exp(-nu)*p_nu)/nu)*(np.exp(nu)*m_nu_x_U_ex/p_nu-p_X*n_0_x_L_ex/(2*p_vac))\n",
    "\n",
    "    if (S_0_Z_L_ex<0)or(S_1_Z_L_ex<0)or(S_1_X_L_ex<0)or(T_1_X_U_ex<0) : \n",
    "        return -6\n",
    "\n",
    "    S_0_Z_L = S_0_Z_L_ex - np.sqrt(2*beta*S_0_Z_L_ex)\n",
    "    S_1_Z_L = S_1_Z_L_ex - np.sqrt(2*beta*S_1_Z_L_ex)\n",
    "    S_1_X_L = S_1_X_L_ex - np.sqrt(2*beta*S_1_X_L_ex)\n",
    "    T_1_X_U = T_1_X_U_ex + beta/2+np.sqrt(2*beta*T_1_X_U_ex+beta**2/4)\n",
    "\n",
    "    if (S_0_Z_L<0)or(S_1_Z_L<0)or(S_1_X_L<0)or(T_1_X_U<0) : \n",
    "        return -5\n",
    "\n",
    "    n = S_1_Z_L\n",
    "    k = S_1_X_L\n",
    "    Lambda = T_1_X_U/S_1_X_L\n",
    "\n",
    "    if (n < 0) or (k < 0) : \n",
    "        return -4\n",
    "\n",
    "    A = np.max([n,k])\n",
    "    G = (n+k)/(n*k) * np.log((n+k) / (2*np.pi*n*k*Lambda*(1-Lambda)*eps**2))\n",
    "\n",
    "    gamma_U = (((1 - 2 * Lambda)*A*G)/(n+k) + np.sqrt(A**2*G**2/(n+k)**2 + 4*Lambda*(1-Lambda)*G))/ (2 + 2*A**2*G/(n + k)**2)\n",
    "\n",
    "    phi_1_Z_U =  Lambda + gamma_U\n",
    "    if (phi_1_Z_U > 0.5) or (phi_1_Z_U <0):\n",
    "        return -3\n",
    "\n",
    "    # 생성된 키 길이 계산\n",
    "    n_Z = n_mu_Z + n_nu_Z\n",
    "    E_Z = (m_mu_Z + m_nu_Z)/n_Z\n",
    "\n",
    "    lambda_ec = n_Z * zeta * h(E_Z)\n",
    "\n",
    "    length = S_0_Z_L + S_1_Z_L * (1 - h(phi_1_Z_U)) - lambda_ec - np.log2(2/eps_cor) - 6*np.log2(23/eps_sec)\n",
    "\n",
    "    if (length > N) or (length < 0) : \n",
    "        return -2\n",
    "\n",
    "    SKR = length/N\n",
    "\n",
    "    if np.isnan(SKR) or np.isinf(SKR):\n",
    "        return -1\n",
    "\n",
    "    return SKR"
   ]
  },
  {
   "cell_type": "code",
   "execution_count": null,
   "id": "2353eee6",
   "metadata": {},
   "outputs": [],
   "source": [
    "def define_ga(co_type, mu_type, sel_type, \n",
    "              gen = 100,\n",
    "              num_parents_mating = 60, sol_per_pop = 200, keep_parents = 50, keep_elitism = 10, K_tournament = 8, crossover_probability = 0.8, mutation_probability = 0.02, mutation_percent_genes = \"default\",\n",
    "              make_df = False, df = None, random_seed = 42) :\n",
    "\n",
    "    def append_df(ga_instance, last_gen_fitness):\n",
    "        nonlocal df  \n",
    "        if df is not None:\n",
    "            data = dict(zip(['mu', 'nu', 'vac', 'p_mu', 'p_nu', 'p_vac', 'p_x', 'q_x'], normalize_p(ga_instance.best_solution()[0])))\n",
    "            data['SKR'] = ga_instance.best_solution()[1]\n",
    "            data['L'] = L\n",
    "            df.loc[len(df)] = data\n",
    "\n",
    "\n",
    "    if make_df == True : \n",
    "        on_stop = append_df\n",
    "    if make_df == False :\n",
    "        on_stop = None\n",
    "    \n",
    "    ga_instance = pygad.GA(num_generations = gen,   #(논문 : 최대 1000)                    # 세대 수\n",
    "                    num_parents_mating = num_parents_mating,   #(논문 : 30)               # 부모로 선택될 솔루션의 수\n",
    "\n",
    "                    fitness_func = calc_SKR,\n",
    "                    fitness_batch_size = None,                                           # 배치 단위로 적합도 함수를 계산, 적합도 함수는 각 배치에 대해 한 번씩 호출\n",
    "\n",
    "                    initial_population = None,                                           # 사용자 정의 초기 개체군, num_genes와 크기가 같아야 함\n",
    "                    sol_per_pop = sol_per_pop,                                           # 한 세대에 포함되는 솔루션(염색체)의 수, 크면 탐색 다양성이 높아짐, 작으면 빠르게 수렴하지만 최적해를 놓칠 수 있음, initial population이 있으면 작동하지 않음\n",
    "                    num_genes = 8,                                                       # 염색체 내 유전자 수, initial_population을 사용하는 경우 이 매개변수가 필요하지 않음\n",
    "                    gene_type = [float, 6],                                              # 유전자 유형, 각 개별 유전자의 데이터 유형 및 소수점도 지정 가능, 리스트 형식 e.g. [int, float, bool, int]\n",
    "\n",
    "                    init_range_low = 0,                                                  # 초기 모집단의 유전자 값이 선택되는 임의 범위의 하한, initial_population이 있으면 필요 없음\n",
    "                    init_range_high = 1,                                                 # 초기 모집단의 유전자 값이 선택되는 임의 범위의 상한,\n",
    "\n",
    "                    parent_selection_type = sel_type,                                    # 부모 선택 유형, sss (for steady-state selection), rws (for roulette wheel selection), sus (for stochastic universal selection), rank (for rank selection), random (for random selection), and tournament (for tournament selection)\n",
    "                    keep_parents = keep_parents,                                         # 현재 개체군에 유지할 부모의 수, -1 : 모든 부모를 개체군에 유지, keep_elitism이 0인 경우에만 작동\n",
    "                    keep_elitism = keep_elitism,                                         # k : 현재 세대의 k개의 best solution만 다음 세대로 이어짐, 0 <= keep_elitism <= sol_per_pop\n",
    "\n",
    "                    K_tournament = K_tournament,                                         # parent_selection_type이 tournament인 경우에 토너먼트에 참여하는 부모의 수\n",
    "\n",
    "                    crossover_type = co_type,                                            # 교차 연산 유형, single_point (for single-point crossover), two_points (for two points crossover), uniform (for uniform crossover), and scattered (for scattered crossover)\n",
    "                    crossover_probability = crossover_probability,   #(논문 : 0.8)        # 교차 연산을 적용할 부모 노드를 선택할 확률, 나머지 확률은 부모 유전자를 그대로 복제해서 다음 세대로 넘김\n",
    "\n",
    "                    mutation_type = mu_type,                                             # 돌연변이 연산의 유형, random (for random mutation), swap (for swap mutation), inversion (for inversion mutation), scramble (for scramble mutation), and adaptive (for adaptive mutation)\n",
    "                    mutation_probability = mutation_probability,   #(논문 : 0.02)         # 돌연변이 연산을 적용할 유전자(개체) 선택 확률, 돌연변이 함수 정의 가능, 이 변수가 있으면 mutation_percent_genes와 mutation_num_genes 필요 없음\n",
    "                    mutation_by_replacement = True,                                      # mutation_type이 random일 때만 작동, True면 기존 유전자를 돌연변이로 대체, False면 기존 유전자에 노이즈 추가\n",
    "                    mutation_percent_genes = mutation_percent_genes,                     # 돌연변이 대상 개체 내에서 변이할 유전자의 비율 (default : 10%), 여기서 돌연변이할 유전자의 개수가 계산되어 mutation_num_genes에 할당됨\n",
    "                    mutation_num_genes = None,                                           # 돌연변이할 유전자의 개수 지정, mutation_probability 변수가 있는 경우 작동하지 않음\n",
    "                    random_mutation_min_val = -0.5,                                      # 유전자에 추가될 난수 값이 선택되는 범위의 하한\n",
    "                    random_mutation_max_val = 0.5,                                       # 유전자에 추가될 난수 값이 선택되는 범위의 상한\n",
    "\n",
    "                    gene_space = [{'low': 0, 'high': 1}] * 8,\n",
    "\n",
    "                    on_start = None,                                                     # 유전 알고리즘이 진화를 시작하기 전에 한 번만 호출되는 함수/메서드\n",
    "                    on_fitness = None,                                                   # 모집단 내 모든 해의 적합도 값을 계산한 후 호출할 함수/메서드를 받음\n",
    "                    on_parents = None,                                                   # 부모를 선택한 후 호출할 함수/메서드\n",
    "                    on_crossover = None,                                                 # 교차 연산이 적용될 때마다 호출될 함수\n",
    "                    on_mutation = None,                                                  # 돌연변이 연산이 적용될 때마다 호줄될 함수\n",
    "                    on_generation = None,                                                # 각 세대마다 호출될 함수\n",
    "                    on_stop = on_stop,                                                   # 유전 알고리즘이 종료되기 바로 전이나 모든 세대가 완료될 때 한번만 호출되는 함수\n",
    "\n",
    "                    save_best_solutions = True,                                          # True인 경우 각 세대 이후 best_solution에 최적해 저장\n",
    "                    save_solutions = True,                                               # 각 세대의 모든 해는 solution에 저장\n",
    "\n",
    "                    suppress_warnings = False,\n",
    "                    allow_duplicate_genes = False,                                       # True인 경우, solution/염색체에 중복된 유전자 값이 있을 수 있음\n",
    "\n",
    "                    stop_criteria = None,\n",
    "                    parallel_processing = None,                                          # None인 경우 병렬 처리 허용하지 않음\n",
    "\n",
    "                    random_seed = random_seed,\n",
    "\n",
    "                    logger = None                                                        # logger 허용\n",
    "                    )\n",
    "    return ga_instance"
   ]
  },
  {
   "cell_type": "code",
   "execution_count": null,
   "id": "9e0244ed",
   "metadata": {},
   "outputs": [],
   "source": [
    "ref = [3e-3, 1.7e-3, 9e-4, 5e-4, 2.9e-4, 1.7e-4, 8e-5, 4e-5, 1.9e-5, 8e-6, 3e-6, 3e-7]\n",
    "\n",
    "def plot_SKR(skr_list, title = '  ', save = False) : \n",
    "    plt.figure(figsize=(10, 6))\n",
    "\n",
    "    x_ga = np.arange(0, len(skr_list) * 5, 5)  \n",
    "    x_ref = np.arange(0, len(ref) * 10, 10)               \n",
    "\n",
    "    plt.plot(x_ga, skr_list, marker='o', color='blue', label='ga')\n",
    "    plt.plot(x_ref, ref, marker='s', color='red', label='ref')\n",
    "    plt.yscale('log')\n",
    "    plt.legend()\n",
    "\n",
    "    texts = []\n",
    "    for x, ga in zip(x_ga, skr_list):\n",
    "        texts.append(plt.text(x, ga, f'{ga:.1e}', fontsize=8, color='blue'))\n",
    "\n",
    "    for x, r in zip(x_ref, ref):\n",
    "        texts.append(plt.text(x, r, f'{r:.1e}', fontsize=8, color='red'))\n",
    "\n",
    "    adjust_text(texts,\n",
    "                arrowprops=dict(arrowstyle='-', color='gray', lw=0.5)\n",
    "    )\n",
    "\n",
    "    plt.xlabel('L')\n",
    "    plt.ylabel('SKR')\n",
    "\n",
    "    max_x = max(x_ga[-1], x_ref[-1])\n",
    "    plt.xticks(np.arange(0, max_x + 1, 10))\n",
    "\n",
    "    plt.title(f'SKR Comparison\\n{title}')\n",
    "    plt.grid(True, which=\"both\", ls=\"--\", linewidth=0.5)\n",
    "    plt.tight_layout()\n",
    "\n",
    "    if save == True : \n",
    "        plt.savefig(f'{title}.png')\n",
    "    \n",
    "    plt.show()\n"
   ]
  },
  {
   "cell_type": "code",
   "execution_count": 7,
   "id": "7e080f8c",
   "metadata": {},
   "outputs": [],
   "source": [
    "def make_df() : \n",
    "    df = pd.DataFrame(columns=['L', 'mu', 'nu', 'vac', 'p_mu', 'p_nu', 'p_vac', 'p_x', 'q_x', 'SKR'])\n",
    "    return df"
   ]
  },
  {
   "cell_type": "code",
   "execution_count": null,
   "id": "78ce1391",
   "metadata": {},
   "outputs": [],
   "source": [
    "L_limit = 150  \n",
    "n = 31         \n",
    "num_iter = 3   \n",
    "\n",
    "\n",
    "def objective(trial):\n",
    "    total_fitness = 0\n",
    "    \n",
    "    crossover_type = trial.suggest_categorical(\"crossover_type\", [\"single_point\", \"two_points\", \"uniform\", \"scattered\"])\n",
    "    mutation_type = trial.suggest_categorical(\"mutation_type\", [\"random\", \"swap\", \"inversion\", \"scramble\", \"adaptive\"])\n",
    "    parent_selection_type = trial.suggest_categorical(\"parent_selection_type\", [\"sss\", \"rws\", \"sus\", \"rank\", \"random\", \"tournament\"])\n",
    "\n",
    "    sol_per_pop = trial.suggest_int(\"sol_per_pop\", 80, 250)\n",
    "    num_parents_mating = trial.suggest_int(\"num_parents_mating\", int(sol_per_pop*0.2), sol_per_pop)\n",
    "    keep_parents = trial.suggest_int(\"keep_parents\", 1, num_parents_mating)\n",
    "    keep_elitism = trial.suggest_int(\"keep_elitism\", 0, 20)    \n",
    "    crossover_probability = trial.suggest_float(\"crossover_probability\", 0.2, 1)\n",
    "\n",
    "    # mutation \n",
    "    if mutation_type == \"adaptive\":\n",
    "        mutation_percent_genes = trial.suggest_categorical(\"mutation_percent_genes\", [[0.5, 0.05], [0.3, 0.1], [0.7, 0.2]])\n",
    "        mutation_probability = None\n",
    "    else:\n",
    "        mutation_percent_genes = \"default\"\n",
    "        mutation_probability = trial.suggest_float(\"mutation_probability\", 0.01, 0.5)\n",
    "\n",
    "    # tournament\n",
    "    K_tournament = trial.suggest_int(\"K_tournament\", 2, int(num_parents_mating * 0.7)) if parent_selection_type == \"tournament\" else None\n",
    "\n",
    "    for L in np.linspace(0, L_limit, n):\n",
    "        for _ in range(num_iter):\n",
    "\n",
    "            ga = define_ga(co_type=crossover_type,\n",
    "                           mu_type=mutation_type,\n",
    "                           sel_type=parent_selection_type,\n",
    "                           gen = 100,\n",
    "                           num_parents_mating=num_parents_mating,\n",
    "                           sol_per_pop=sol_per_pop,\n",
    "                           keep_parents=keep_parents,\n",
    "                           keep_elitism=keep_elitism,\n",
    "                           K_tournament=K_tournament,\n",
    "                           crossover_probability=crossover_probability,\n",
    "                           mutation_probability=mutation_probability,\n",
    "                           mutation_percent_genes=mutation_percent_genes,\n",
    "                           make_df=False,\n",
    "                           df=None,\n",
    "                           random_seed=None)\n",
    "\n",
    "            ga.run()\n",
    "            best_fitness = ga.best_solution()[1]\n",
    "            total_fitness += best_fitness\n",
    "\n",
    "    return - total_fitness "
   ]
  },
  {
   "cell_type": "code",
   "execution_count": null,
   "id": "9b774c95",
   "metadata": {},
   "outputs": [
    {
     "name": "stderr",
     "output_type": "stream",
     "text": [
      "[I 2025-06-29 15:47:19,629] A new study created in memory with name: no-name-3d3e363c-5a5f-4183-9385-a4c0983889ea\n",
      "[I 2025-06-29 15:47:58,361] Trial 0 finished with value: -0.00013588116358316486 and parameters: {'crossover_type': 'uniform', 'mutation_type': 'swap', 'parent_selection_type': 'tournament', 'sol_per_pop': 169, 'num_parents_mating': 76, 'keep_parents': 9, 'keep_elitism': 9, 'crossover_probability': 0.9116312510384825, 'mutation_probability': 0.05679778667580545, 'K_tournament': 24}. Best is trial 0 with value: -0.00013588116358316486.\n",
      "[I 2025-06-29 15:48:47,897] Trial 1 finished with value: -9.53886046691934e-05 and parameters: {'crossover_type': 'single_point', 'mutation_type': 'scramble', 'parent_selection_type': 'sus', 'sol_per_pop': 248, 'num_parents_mating': 149, 'keep_parents': 102, 'keep_elitism': 16, 'crossover_probability': 0.9933052303763996, 'mutation_probability': 0.25493721881784764}. Best is trial 0 with value: -0.00013588116358316486.\n",
      "[I 2025-06-29 15:49:20,027] Trial 2 finished with value: -0.00021341974655340572 and parameters: {'crossover_type': 'scattered', 'mutation_type': 'adaptive', 'parent_selection_type': 'tournament', 'sol_per_pop': 155, 'num_parents_mating': 41, 'keep_parents': 34, 'keep_elitism': 4, 'crossover_probability': 0.819176414462564, 'mutation_percent_genes': [0.7, 0.2], 'K_tournament': 3}. Best is trial 2 with value: -0.00021341974655340572.\n",
      "[I 2025-06-29 15:49:40,305] Trial 3 finished with value: -9.35906890699411e-05 and parameters: {'crossover_type': 'uniform', 'mutation_type': 'scramble', 'parent_selection_type': 'sus', 'sol_per_pop': 142, 'num_parents_mating': 133, 'keep_parents': 84, 'keep_elitism': 12, 'crossover_probability': 0.8664023079590566, 'mutation_probability': 0.32908269705002813}. Best is trial 2 with value: -0.00021341974655340572.\n",
      "[I 2025-06-29 15:50:34,888] Trial 4 finished with value: -9.53523033228541e-05 and parameters: {'crossover_type': 'uniform', 'mutation_type': 'random', 'parent_selection_type': 'sus', 'sol_per_pop': 232, 'num_parents_mating': 224, 'keep_parents': 31, 'keep_elitism': 18, 'crossover_probability': 0.4624489826827029, 'mutation_probability': 0.4278649629577094}. Best is trial 2 with value: -0.00021341974655340572.\n",
      "[I 2025-06-29 15:50:49,770] Trial 5 finished with value: -0.00019528742607431452 and parameters: {'crossover_type': 'single_point', 'mutation_type': 'random', 'parent_selection_type': 'sss', 'sol_per_pop': 106, 'num_parents_mating': 58, 'keep_parents': 12, 'keep_elitism': 18, 'crossover_probability': 0.9102096876315531, 'mutation_probability': 0.270934022093526}. Best is trial 2 with value: -0.00021341974655340572.\n",
      "[I 2025-06-29 15:51:23,885] Trial 6 finished with value: -6.66312941900663e-05 and parameters: {'crossover_type': 'scattered', 'mutation_type': 'swap', 'parent_selection_type': 'rws', 'sol_per_pop': 203, 'num_parents_mating': 78, 'keep_parents': 62, 'keep_elitism': 17, 'crossover_probability': 0.9194532652733858, 'mutation_probability': 0.033658632968345925}. Best is trial 2 with value: -0.00021341974655340572.\n",
      "[I 2025-06-29 15:52:10,091] Trial 7 finished with value: -0.00021985457204462967 and parameters: {'crossover_type': 'single_point', 'mutation_type': 'adaptive', 'parent_selection_type': 'sss', 'sol_per_pop': 199, 'num_parents_mating': 91, 'keep_parents': 50, 'keep_elitism': 19, 'crossover_probability': 0.2695334229447601, 'mutation_percent_genes': [0.5, 0.05]}. Best is trial 7 with value: -0.00021985457204462967.\n",
      "[I 2025-06-29 15:52:50,694] Trial 8 finished with value: -9.335302723491446e-05 and parameters: {'crossover_type': 'scattered', 'mutation_type': 'inversion', 'parent_selection_type': 'sus', 'sol_per_pop': 225, 'num_parents_mating': 66, 'keep_parents': 1, 'keep_elitism': 1, 'crossover_probability': 0.8822254308128084, 'mutation_probability': 0.3018763126998408}. Best is trial 7 with value: -0.00021985457204462967.\n",
      "[I 2025-06-29 15:53:15,139] Trial 9 finished with value: -8.65732417108944e-05 and parameters: {'crossover_type': 'uniform', 'mutation_type': 'scramble', 'parent_selection_type': 'rws', 'sol_per_pop': 166, 'num_parents_mating': 33, 'keep_parents': 10, 'keep_elitism': 10, 'crossover_probability': 0.5369700308702675, 'mutation_probability': 0.4023922388346399}. Best is trial 7 with value: -0.00021985457204462967.\n",
      "[I 2025-06-29 15:53:28,996] Trial 10 finished with value: -0.0002114492701512995 and parameters: {'crossover_type': 'two_points', 'mutation_type': 'adaptive', 'parent_selection_type': 'sss', 'sol_per_pop': 85, 'num_parents_mating': 20, 'keep_parents': 15, 'keep_elitism': 13, 'crossover_probability': 0.24084324938673912, 'mutation_percent_genes': [0.5, 0.05]}. Best is trial 7 with value: -0.00021985457204462967.\n",
      "[I 2025-06-29 15:54:02,960] Trial 11 finished with value: -6.209803812676919e-05 and parameters: {'crossover_type': 'scattered', 'mutation_type': 'adaptive', 'parent_selection_type': 'rank', 'sol_per_pop': 189, 'num_parents_mating': 101, 'keep_parents': 47, 'keep_elitism': 3, 'crossover_probability': 0.6997032195974119, 'mutation_percent_genes': [0.7, 0.2]}. Best is trial 7 with value: -0.00021985457204462967.\n",
      "[I 2025-06-29 15:54:31,259] Trial 12 finished with value: -0.00020861447577692633 and parameters: {'crossover_type': 'single_point', 'mutation_type': 'adaptive', 'parent_selection_type': 'tournament', 'sol_per_pop': 142, 'num_parents_mating': 99, 'keep_parents': 48, 'keep_elitism': 6, 'crossover_probability': 0.21629697552855068, 'mutation_percent_genes': [0.7, 0.2], 'K_tournament': 2}. Best is trial 7 with value: -0.00021985457204462967.\n",
      "[I 2025-06-29 15:55:10,778] Trial 13 finished with value: -0.0001535742506218354 and parameters: {'crossover_type': 'two_points', 'mutation_type': 'adaptive', 'parent_selection_type': 'random', 'sol_per_pop': 198, 'num_parents_mating': 179, 'keep_parents': 171, 'keep_elitism': 6, 'crossover_probability': 0.7248536017755579, 'mutation_percent_genes': [0.5, 0.05]}. Best is trial 7 with value: -0.00021985457204462967.\n",
      "[I 2025-06-29 15:55:35,847] Trial 14 finished with value: -0.00020553114062845293 and parameters: {'crossover_type': 'single_point', 'mutation_type': 'adaptive', 'parent_selection_type': 'tournament', 'sol_per_pop': 131, 'num_parents_mating': 49, 'keep_parents': 30, 'keep_elitism': 20, 'crossover_probability': 0.3709748892468563, 'mutation_percent_genes': [0.3, 0.1], 'K_tournament': 2}. Best is trial 7 with value: -0.00021985457204462967.\n",
      "[I 2025-06-29 15:56:06,442] Trial 15 finished with value: -0.00015939792620476873 and parameters: {'crossover_type': 'scattered', 'mutation_type': 'inversion', 'parent_selection_type': 'sss', 'sol_per_pop': 181, 'num_parents_mating': 124, 'keep_parents': 75, 'keep_elitism': 5, 'crossover_probability': 0.7177608433699805, 'mutation_probability': 0.1502320605452789}. Best is trial 7 with value: -0.00021985457204462967.\n",
      "[I 2025-06-29 15:56:48,235] Trial 16 finished with value: 0.9999416306484176 and parameters: {'crossover_type': 'single_point', 'mutation_type': 'adaptive', 'parent_selection_type': 'rank', 'sol_per_pop': 216, 'num_parents_mating': 97, 'keep_parents': 34, 'keep_elitism': 1, 'crossover_probability': 0.3887933914815106, 'mutation_percent_genes': [0.7, 0.2]}. Best is trial 7 with value: -0.00021985457204462967.\n",
      "[I 2025-06-29 15:57:07,915] Trial 17 finished with value: -0.00018496934190531973 and parameters: {'crossover_type': 'scattered', 'mutation_type': 'adaptive', 'parent_selection_type': 'random', 'sol_per_pop': 125, 'num_parents_mating': 47, 'keep_parents': 24, 'keep_elitism': 13, 'crossover_probability': 0.6179814784705646, 'mutation_percent_genes': [0.5, 0.05]}. Best is trial 7 with value: -0.00021985457204462967.\n",
      "[I 2025-06-29 15:58:03,419] Trial 18 finished with value: 1.9998286685050874 and parameters: {'crossover_type': 'two_points', 'mutation_type': 'adaptive', 'parent_selection_type': 'tournament', 'sol_per_pop': 154, 'num_parents_mating': 118, 'keep_parents': 49, 'keep_elitism': 9, 'crossover_probability': 0.800285857717449, 'mutation_percent_genes': [0.3, 0.1], 'K_tournament': 76}. Best is trial 7 with value: -0.00021985457204462967.\n",
      "[I 2025-06-29 15:58:38,909] Trial 19 finished with value: -0.00014309265314396227 and parameters: {'crossover_type': 'single_point', 'mutation_type': 'random', 'parent_selection_type': 'sss', 'sol_per_pop': 179, 'num_parents_mating': 83, 'keep_parents': 59, 'keep_elitism': 4, 'crossover_probability': 0.3194802359878151, 'mutation_probability': 0.4999027122715113}. Best is trial 7 with value: -0.00021985457204462967.\n",
      "[I 2025-06-29 15:58:56,658] Trial 20 finished with value: -0.00015807070174628246 and parameters: {'crossover_type': 'scattered', 'mutation_type': 'inversion', 'parent_selection_type': 'sss', 'sol_per_pop': 110, 'num_parents_mating': 34, 'keep_parents': 20, 'keep_elitism': 15, 'crossover_probability': 0.5901191313074983, 'mutation_probability': 0.17412173733844943}. Best is trial 7 with value: -0.00021985457204462967.\n",
      "[I 2025-06-29 15:59:14,143] Trial 21 finished with value: -0.0002175302595971653 and parameters: {'crossover_type': 'two_points', 'mutation_type': 'adaptive', 'parent_selection_type': 'sss', 'sol_per_pop': 101, 'num_parents_mating': 20, 'keep_parents': 1, 'keep_elitism': 13, 'crossover_probability': 0.21341054871483334, 'mutation_percent_genes': [0.5, 0.05]}. Best is trial 7 with value: -0.00021985457204462967.\n",
      "[I 2025-06-29 15:59:28,836] Trial 22 finished with value: -0.00020232014184976143 and parameters: {'crossover_type': 'two_points', 'mutation_type': 'adaptive', 'parent_selection_type': 'sss', 'sol_per_pop': 89, 'num_parents_mating': 17, 'keep_parents': 4, 'keep_elitism': 20, 'crossover_probability': 0.2865529038950829, 'mutation_percent_genes': [0.5, 0.05]}. Best is trial 7 with value: -0.00021985457204462967.\n",
      "[I 2025-06-29 15:59:48,235] Trial 23 finished with value: -0.00021348065099479667 and parameters: {'crossover_type': 'two_points', 'mutation_type': 'adaptive', 'parent_selection_type': 'sss', 'sol_per_pop': 106, 'num_parents_mating': 31, 'keep_parents': 6, 'keep_elitism': 8, 'crossover_probability': 0.487515112334577, 'mutation_percent_genes': [0.5, 0.05]}. Best is trial 7 with value: -0.00021985457204462967.\n",
      "[I 2025-06-29 16:00:07,707] Trial 24 finished with value: -0.00020754572884841316 and parameters: {'crossover_type': 'two_points', 'mutation_type': 'adaptive', 'parent_selection_type': 'sss', 'sol_per_pop': 106, 'num_parents_mating': 30, 'keep_parents': 4, 'keep_elitism': 8, 'crossover_probability': 0.45454469616015164, 'mutation_percent_genes': [0.5, 0.05]}. Best is trial 7 with value: -0.00021985457204462967.\n",
      "[I 2025-06-29 16:00:17,697] Trial 25 finished with value: -0.00016143049670653878 and parameters: {'crossover_type': 'two_points', 'mutation_type': 'swap', 'parent_selection_type': 'sss', 'sol_per_pop': 80, 'num_parents_mating': 23, 'keep_parents': 2, 'keep_elitism': 12, 'crossover_probability': 0.30296027596415037, 'mutation_probability': 0.13864680773891258}. Best is trial 7 with value: -0.00021985457204462967.\n",
      "[I 2025-06-29 16:00:39,999] Trial 26 finished with value: -0.0002090331495662343 and parameters: {'crossover_type': 'two_points', 'mutation_type': 'adaptive', 'parent_selection_type': 'sss', 'sol_per_pop': 119, 'num_parents_mating': 61, 'keep_parents': 18, 'keep_elitism': 15, 'crossover_probability': 0.401406599985298, 'mutation_percent_genes': [0.5, 0.05]}. Best is trial 7 with value: -0.00021985457204462967.\n",
      "[I 2025-06-29 16:00:56,582] Trial 27 finished with value: -0.00020804678902491212 and parameters: {'crossover_type': 'two_points', 'mutation_type': 'adaptive', 'parent_selection_type': 'sss', 'sol_per_pop': 95, 'num_parents_mating': 26, 'keep_parents': 6, 'keep_elitism': 7, 'crossover_probability': 0.25084978244619327, 'mutation_percent_genes': [0.5, 0.05]}. Best is trial 7 with value: -0.00021985457204462967.\n",
      "[I 2025-06-29 16:01:23,388] Trial 28 finished with value: -0.00019031918102221538 and parameters: {'crossover_type': 'two_points', 'mutation_type': 'adaptive', 'parent_selection_type': 'sss', 'sol_per_pop': 137, 'num_parents_mating': 89, 'keep_parents': 40, 'keep_elitism': 11, 'crossover_probability': 0.46992465012302004, 'mutation_percent_genes': [0.5, 0.05]}. Best is trial 7 with value: -0.00021985457204462967.\n",
      "[I 2025-06-29 16:01:34,909] Trial 29 finished with value: -0.00015949804251960575 and parameters: {'crossover_type': 'two_points', 'mutation_type': 'swap', 'parent_selection_type': 'random', 'sol_per_pop': 98, 'num_parents_mating': 40, 'keep_parents': 8, 'keep_elitism': 14, 'crossover_probability': 0.34766511950561785, 'mutation_probability': 0.2058475631886119}. Best is trial 7 with value: -0.00021985457204462967.\n",
      "[I 2025-06-29 16:01:57,377] Trial 30 finished with value: -8.448878950250827e-05 and parameters: {'crossover_type': 'single_point', 'mutation_type': 'scramble', 'parent_selection_type': 'rws', 'sol_per_pop': 155, 'num_parents_mating': 70, 'keep_parents': 25, 'keep_elitism': 9, 'crossover_probability': 0.20262750852375916, 'mutation_probability': 0.090353721237071}. Best is trial 7 with value: -0.00021985457204462967.\n",
      "[I 2025-06-29 16:02:21,737] Trial 31 finished with value: 0.9997951329805701 and parameters: {'crossover_type': 'scattered', 'mutation_type': 'adaptive', 'parent_selection_type': 'tournament', 'sol_per_pop': 119, 'num_parents_mating': 40, 'keep_parents': 13, 'keep_elitism': 3, 'crossover_probability': 0.5656844769623146, 'mutation_percent_genes': [0.7, 0.2], 'K_tournament': 13}. Best is trial 7 with value: -0.00021985457204462967.\n",
      "[I 2025-06-29 16:02:56,883] Trial 32 finished with value: -0.0002097783266727826 and parameters: {'crossover_type': 'uniform', 'mutation_type': 'adaptive', 'parent_selection_type': 'tournament', 'sol_per_pop': 153, 'num_parents_mating': 49, 'keep_parents': 36, 'keep_elitism': 7, 'crossover_probability': 0.6498435735954518, 'mutation_percent_genes': [0.5, 0.05], 'K_tournament': 15}. Best is trial 7 with value: -0.00021985457204462967.\n",
      "[I 2025-06-29 16:03:48,873] Trial 33 finished with value: -9.675079308751934e-05 and parameters: {'crossover_type': 'single_point', 'mutation_type': 'adaptive', 'parent_selection_type': 'rank', 'sol_per_pop': 249, 'num_parents_mating': 70, 'keep_parents': 54, 'keep_elitism': 0, 'crossover_probability': 0.8010038934983963, 'mutation_percent_genes': [0.7, 0.2]}. Best is trial 7 with value: -0.00021985457204462967.\n",
      "[I 2025-06-29 16:04:30,807] Trial 34 finished with value: -0.00021059102550222586 and parameters: {'crossover_type': 'two_points', 'mutation_type': 'random', 'parent_selection_type': 'tournament', 'sol_per_pop': 175, 'num_parents_mating': 56, 'keep_parents': 39, 'keep_elitism': 11, 'crossover_probability': 0.531640821802067, 'mutation_probability': 0.3707892760064097, 'K_tournament': 31}. Best is trial 7 with value: -0.00021985457204462967.\n",
      "[I 2025-06-29 16:05:09,738] Trial 35 finished with value: -0.00016268573275489762 and parameters: {'crossover_type': 'uniform', 'mutation_type': 'scramble', 'parent_selection_type': 'sss', 'sol_per_pop': 208, 'num_parents_mating': 155, 'keep_parents': 75, 'keep_elitism': 17, 'crossover_probability': 0.27263311038241994, 'mutation_probability': 0.47745589440070274}. Best is trial 7 with value: -0.00021985457204462967.\n",
      "[I 2025-06-29 16:05:43,024] Trial 36 finished with value: -9.185302436996463e-05 and parameters: {'crossover_type': 'scattered', 'mutation_type': 'adaptive', 'parent_selection_type': 'sus', 'sol_per_pop': 190, 'num_parents_mating': 54, 'keep_parents': 21, 'keep_elitism': 18, 'crossover_probability': 0.4960700405029196, 'mutation_percent_genes': [0.5, 0.05]}. Best is trial 7 with value: -0.00021985457204462967.\n",
      "[I 2025-06-29 16:06:30,306] Trial 37 finished with value: -0.00017040767769984405 and parameters: {'crossover_type': 'single_point', 'mutation_type': 'swap', 'parent_selection_type': 'sss', 'sol_per_pop': 232, 'num_parents_mating': 220, 'keep_parents': 145, 'keep_elitism': 3, 'crossover_probability': 0.4281657446015385, 'mutation_probability': 0.21788392204229085}. Best is trial 7 with value: -0.00021985457204462967.\n",
      "[I 2025-06-29 16:06:43,404] Trial 38 finished with value: -8.003839414704318e-05 and parameters: {'crossover_type': 'two_points', 'mutation_type': 'inversion', 'parent_selection_type': 'rws', 'sol_per_pop': 113, 'num_parents_mating': 29, 'keep_parents': 3, 'keep_elitism': 10, 'crossover_probability': 0.3396089601545354, 'mutation_probability': 0.10899875766525416}. Best is trial 7 with value: -0.00021985457204462967.\n",
      "[I 2025-06-29 16:07:12,675] Trial 39 finished with value: -9.947731728626483e-05 and parameters: {'crossover_type': 'uniform', 'mutation_type': 'random', 'parent_selection_type': 'sus', 'sol_per_pop': 163, 'num_parents_mating': 39, 'keep_parents': 27, 'keep_elitism': 8, 'crossover_probability': 0.9861702680154292, 'mutation_probability': 0.4397685254383368}. Best is trial 7 with value: -0.00021985457204462967.\n",
      "[I 2025-06-29 16:07:29,453] Trial 40 finished with value: -0.00021070821263090536 and parameters: {'crossover_type': 'scattered', 'mutation_type': 'adaptive', 'parent_selection_type': 'sss', 'sol_per_pop': 98, 'num_parents_mating': 36, 'keep_parents': 7, 'keep_elitism': 19, 'crossover_probability': 0.803996251974314, 'mutation_percent_genes': [0.3, 0.1]}. Best is trial 7 with value: -0.00021985457204462967.\n",
      "[I 2025-06-29 16:07:42,682] Trial 41 finished with value: 0.9998065776492114 and parameters: {'crossover_type': 'two_points', 'mutation_type': 'adaptive', 'parent_selection_type': 'sss', 'sol_per_pop': 82, 'num_parents_mating': 17, 'keep_parents': 10, 'keep_elitism': 14, 'crossover_probability': 0.2432547954275992, 'mutation_percent_genes': [0.5, 0.05]}. Best is trial 7 with value: -0.00021985457204462967.\n",
      "[I 2025-06-29 16:07:58,168] Trial 42 finished with value: 0.9998005199896322 and parameters: {'crossover_type': 'two_points', 'mutation_type': 'adaptive', 'parent_selection_type': 'sss', 'sol_per_pop': 90, 'num_parents_mating': 22, 'keep_parents': 13, 'keep_elitism': 13, 'crossover_probability': 0.2494664111239687, 'mutation_percent_genes': [0.5, 0.05]}. Best is trial 7 with value: -0.00021985457204462967.\n",
      "[I 2025-06-29 16:08:16,691] Trial 43 finished with value: -0.00020887029186078407 and parameters: {'crossover_type': 'two_points', 'mutation_type': 'adaptive', 'parent_selection_type': 'sss', 'sol_per_pop': 102, 'num_parents_mating': 27, 'keep_parents': 16, 'keep_elitism': 12, 'crossover_probability': 0.29902441636244903, 'mutation_percent_genes': [0.5, 0.05]}. Best is trial 7 with value: -0.00021985457204462967.\n",
      "[I 2025-06-29 16:08:30,356] Trial 44 finished with value: 0.9998577317371189 and parameters: {'crossover_type': 'two_points', 'mutation_type': 'scramble', 'parent_selection_type': 'tournament', 'sol_per_pop': 89, 'num_parents_mating': 22, 'keep_parents': 6, 'keep_elitism': 16, 'crossover_probability': 0.21242921384237778, 'mutation_probability': 0.34406458626922487, 'K_tournament': 6}. Best is trial 7 with value: -0.00021985457204462967.\n",
      "[I 2025-06-29 16:08:48,172] Trial 45 finished with value: 3.999943417814191 and parameters: {'crossover_type': 'single_point', 'mutation_type': 'adaptive', 'parent_selection_type': 'rank', 'sol_per_pop': 129, 'num_parents_mating': 43, 'keep_parents': 16, 'keep_elitism': 5, 'crossover_probability': 0.35880432398862694, 'mutation_percent_genes': [0.5, 0.05]}. Best is trial 7 with value: -0.00021985457204462967.\n",
      "[I 2025-06-29 16:09:13,044] Trial 46 finished with value: -0.00017331129417453542 and parameters: {'crossover_type': 'scattered', 'mutation_type': 'adaptive', 'parent_selection_type': 'random', 'sol_per_pop': 146, 'num_parents_mating': 34, 'keep_parents': 11, 'keep_elitism': 11, 'crossover_probability': 0.6824791141894205, 'mutation_percent_genes': [0.5, 0.05]}. Best is trial 7 with value: -0.00021985457204462967.\n",
      "[I 2025-06-29 16:10:08,709] Trial 47 finished with value: -0.000221956057584036 and parameters: {'crossover_type': 'two_points', 'mutation_type': 'adaptive', 'parent_selection_type': 'sss', 'sol_per_pop': 218, 'num_parents_mating': 61, 'keep_parents': 44, 'keep_elitism': 17, 'crossover_probability': 0.8546404973857875, 'mutation_percent_genes': [0.7, 0.2]}. Best is trial 47 with value: -0.000221956057584036.\n",
      "[I 2025-06-29 16:10:50,310] Trial 48 finished with value: -7.853014115265479e-05 and parameters: {'crossover_type': 'single_point', 'mutation_type': 'adaptive', 'parent_selection_type': 'rws', 'sol_per_pop': 216, 'num_parents_mating': 63, 'keep_parents': 44, 'keep_elitism': 17, 'crossover_probability': 0.7645255363560208, 'mutation_percent_genes': [0.7, 0.2]}. Best is trial 47 with value: -0.000221956057584036.\n",
      "[I 2025-06-29 16:11:54,710] Trial 49 finished with value: -0.000195442268034602 and parameters: {'crossover_type': 'two_points', 'mutation_type': 'inversion', 'parent_selection_type': 'sss', 'sol_per_pop': 242, 'num_parents_mating': 76, 'keep_parents': 56, 'keep_elitism': 18, 'crossover_probability': 0.8752432963305399, 'mutation_probability': 0.0187264362108234}. Best is trial 47 with value: -0.000221956057584036.\n"
     ]
    },
    {
     "name": "stdout",
     "output_type": "stream",
     "text": [
      "Best trial:\n",
      "FrozenTrial(number=47, state=1, values=[-0.000221956057584036], datetime_start=datetime.datetime(2025, 6, 29, 16, 9, 13, 45004), datetime_complete=datetime.datetime(2025, 6, 29, 16, 10, 8, 709465), params={'crossover_type': 'two_points', 'mutation_type': 'adaptive', 'parent_selection_type': 'sss', 'sol_per_pop': 218, 'num_parents_mating': 61, 'keep_parents': 44, 'keep_elitism': 17, 'crossover_probability': 0.8546404973857875, 'mutation_percent_genes': [0.7, 0.2]}, user_attrs={}, system_attrs={}, intermediate_values={}, distributions={'crossover_type': CategoricalDistribution(choices=('single_point', 'two_points', 'uniform', 'scattered')), 'mutation_type': CategoricalDistribution(choices=('random', 'swap', 'inversion', 'scramble', 'adaptive')), 'parent_selection_type': CategoricalDistribution(choices=('sss', 'rws', 'sus', 'rank', 'random', 'tournament')), 'sol_per_pop': IntDistribution(high=250, log=False, low=80, step=1), 'num_parents_mating': IntDistribution(high=218, log=False, low=43, step=1), 'keep_parents': IntDistribution(high=61, log=False, low=1, step=1), 'keep_elitism': IntDistribution(high=20, log=False, low=0, step=1), 'crossover_probability': FloatDistribution(high=1.0, log=False, low=0.2, step=None), 'mutation_percent_genes': CategoricalDistribution(choices=([0.5, 0.05], [0.3, 0.1], [0.7, 0.2]))}, trial_id=47, value=None)\n"
     ]
    }
   ],
   "source": [
    "sampler = optuna.samplers.TPESampler(n_startup_trials=20,  \n",
    "                                     multivariate=True,    \n",
    "                                     group=True)\n",
    "\n",
    "study = optuna.create_study(sampler = sampler, direction=\"minimize\")\n",
    "study.optimize(objective, n_trials=50)\n",
    "\n",
    "print(\"Best trial:\")\n",
    "print(study.best_trial)"
   ]
  },
  {
   "cell_type": "code",
   "execution_count": 10,
   "id": "618eeb6d",
   "metadata": {},
   "outputs": [
    {
     "data": {
      "text/plain": [
       "{'crossover_type': 'two_points',\n",
       " 'mutation_type': 'adaptive',\n",
       " 'parent_selection_type': 'sss',\n",
       " 'sol_per_pop': 218,\n",
       " 'num_parents_mating': 61,\n",
       " 'keep_parents': 44,\n",
       " 'keep_elitism': 17,\n",
       " 'crossover_probability': 0.8546404973857875,\n",
       " 'mutation_percent_genes': [0.7, 0.2]}"
      ]
     },
     "execution_count": 10,
     "metadata": {},
     "output_type": "execute_result"
    }
   ],
   "source": [
    "study.best_trial.params"
   ]
  },
  {
   "cell_type": "code",
   "execution_count": 48,
   "id": "b87d1c96",
   "metadata": {},
   "outputs": [
    {
     "data": {
      "application/vnd.plotly.v1+json": {
       "config": {
        "plotlyServerURL": "https://plot.ly"
       },
       "data": [
        {
         "mode": "markers",
         "name": "Objective Value",
         "type": "scatter",
         "x": [
          0,
          1,
          2,
          3,
          4,
          5,
          6,
          7,
          8,
          9,
          10,
          11,
          12,
          13,
          14,
          15,
          16,
          17,
          18,
          19,
          20,
          21,
          22,
          23,
          24,
          25,
          26,
          27,
          28,
          29,
          30,
          31,
          32,
          33,
          34,
          35,
          36,
          37,
          38,
          39,
          40,
          41,
          42,
          43,
          44,
          45,
          46,
          47,
          48,
          49
         ],
         "y": [
          -0.13417931338160438,
          -0.20006154057891415,
          -0.22403463662956458,
          -0.21640128539884587,
          -0.15068773214379183,
          -0.2341053459873693,
          -0.12610982920035868,
          -0.21018327058854938,
          -0.14824446303264818,
          -0.16229077617543158,
          -0.1878486758282142,
          -0.14257611960405298,
          -0.20623549904002522,
          -0.23543511077750373,
          -0.11594186017798666,
          -0.0933117660456704,
          -0.20285429778708097,
          -0.10918231246403387,
          -0.14888626025527102,
          -0.1403498632047587,
          -0.22591506592545943,
          -0.23947895005523356,
          -0.23562125930146652,
          -0.22999638773517228,
          -0.19423220851382272,
          -0.14393533827566515,
          -0.24180285082608827,
          -0.24124741947423511,
          -0.2457375578838874,
          -0.2264932928059618,
          -0.24384473725948938,
          -0.24268256203103233,
          -0.24263601505607887,
          -0.2405820611770149,
          -0.22314694493611628,
          -0.24849088708310227,
          -0.13869428713415213,
          -0.22651039290536565,
          -0.2461908011697916,
          -0.2459417491126147,
          -0.2451423415787337,
          -0.2478607814264725,
          -0.14158915241817246,
          -0.250452276124199,
          -0.25135498959896674,
          -0.25023965366404555,
          -0.24993790118274117,
          -0.24823856034492112,
          -0.24954269245915092,
          -0.23024744593457966
         ]
        },
        {
         "mode": "lines",
         "name": "Best Value",
         "type": "scatter",
         "x": [
          0,
          1,
          2,
          3,
          4,
          5,
          6,
          7,
          8,
          9,
          10,
          11,
          12,
          13,
          14,
          15,
          16,
          17,
          18,
          19,
          20,
          21,
          22,
          23,
          24,
          25,
          26,
          27,
          28,
          29,
          30,
          31,
          32,
          33,
          34,
          35,
          36,
          37,
          38,
          39,
          40,
          41,
          42,
          43,
          44,
          45,
          46,
          47,
          48,
          49
         ],
         "y": [
          -0.13417931338160438,
          -0.20006154057891415,
          -0.22403463662956458,
          -0.22403463662956458,
          -0.22403463662956458,
          -0.2341053459873693,
          -0.2341053459873693,
          -0.2341053459873693,
          -0.2341053459873693,
          -0.2341053459873693,
          -0.2341053459873693,
          -0.2341053459873693,
          -0.2341053459873693,
          -0.23543511077750373,
          -0.23543511077750373,
          -0.23543511077750373,
          -0.23543511077750373,
          -0.23543511077750373,
          -0.23543511077750373,
          -0.23543511077750373,
          -0.23543511077750373,
          -0.23947895005523356,
          -0.23947895005523356,
          -0.23947895005523356,
          -0.23947895005523356,
          -0.23947895005523356,
          -0.24180285082608827,
          -0.24180285082608827,
          -0.2457375578838874,
          -0.2457375578838874,
          -0.2457375578838874,
          -0.2457375578838874,
          -0.2457375578838874,
          -0.2457375578838874,
          -0.2457375578838874,
          -0.24849088708310227,
          -0.24849088708310227,
          -0.24849088708310227,
          -0.24849088708310227,
          -0.24849088708310227,
          -0.24849088708310227,
          -0.24849088708310227,
          -0.24849088708310227,
          -0.250452276124199,
          -0.25135498959896674,
          -0.25135498959896674,
          -0.25135498959896674,
          -0.25135498959896674,
          -0.25135498959896674,
          -0.25135498959896674
         ]
        },
        {
         "marker": {
          "color": "#cccccc"
         },
         "mode": "markers",
         "name": "Infeasible Trial",
         "showlegend": false,
         "type": "scatter",
         "x": [],
         "y": []
        }
       ],
       "layout": {
        "template": {
         "data": {
          "bar": [
           {
            "error_x": {
             "color": "#2a3f5f"
            },
            "error_y": {
             "color": "#2a3f5f"
            },
            "marker": {
             "line": {
              "color": "#E5ECF6",
              "width": 0.5
             },
             "pattern": {
              "fillmode": "overlay",
              "size": 10,
              "solidity": 0.2
             }
            },
            "type": "bar"
           }
          ],
          "barpolar": [
           {
            "marker": {
             "line": {
              "color": "#E5ECF6",
              "width": 0.5
             },
             "pattern": {
              "fillmode": "overlay",
              "size": 10,
              "solidity": 0.2
             }
            },
            "type": "barpolar"
           }
          ],
          "carpet": [
           {
            "aaxis": {
             "endlinecolor": "#2a3f5f",
             "gridcolor": "white",
             "linecolor": "white",
             "minorgridcolor": "white",
             "startlinecolor": "#2a3f5f"
            },
            "baxis": {
             "endlinecolor": "#2a3f5f",
             "gridcolor": "white",
             "linecolor": "white",
             "minorgridcolor": "white",
             "startlinecolor": "#2a3f5f"
            },
            "type": "carpet"
           }
          ],
          "choropleth": [
           {
            "colorbar": {
             "outlinewidth": 0,
             "ticks": ""
            },
            "type": "choropleth"
           }
          ],
          "contour": [
           {
            "colorbar": {
             "outlinewidth": 0,
             "ticks": ""
            },
            "colorscale": [
             [
              0,
              "#0d0887"
             ],
             [
              0.1111111111111111,
              "#46039f"
             ],
             [
              0.2222222222222222,
              "#7201a8"
             ],
             [
              0.3333333333333333,
              "#9c179e"
             ],
             [
              0.4444444444444444,
              "#bd3786"
             ],
             [
              0.5555555555555556,
              "#d8576b"
             ],
             [
              0.6666666666666666,
              "#ed7953"
             ],
             [
              0.7777777777777778,
              "#fb9f3a"
             ],
             [
              0.8888888888888888,
              "#fdca26"
             ],
             [
              1,
              "#f0f921"
             ]
            ],
            "type": "contour"
           }
          ],
          "contourcarpet": [
           {
            "colorbar": {
             "outlinewidth": 0,
             "ticks": ""
            },
            "type": "contourcarpet"
           }
          ],
          "heatmap": [
           {
            "colorbar": {
             "outlinewidth": 0,
             "ticks": ""
            },
            "colorscale": [
             [
              0,
              "#0d0887"
             ],
             [
              0.1111111111111111,
              "#46039f"
             ],
             [
              0.2222222222222222,
              "#7201a8"
             ],
             [
              0.3333333333333333,
              "#9c179e"
             ],
             [
              0.4444444444444444,
              "#bd3786"
             ],
             [
              0.5555555555555556,
              "#d8576b"
             ],
             [
              0.6666666666666666,
              "#ed7953"
             ],
             [
              0.7777777777777778,
              "#fb9f3a"
             ],
             [
              0.8888888888888888,
              "#fdca26"
             ],
             [
              1,
              "#f0f921"
             ]
            ],
            "type": "heatmap"
           }
          ],
          "heatmapgl": [
           {
            "colorbar": {
             "outlinewidth": 0,
             "ticks": ""
            },
            "colorscale": [
             [
              0,
              "#0d0887"
             ],
             [
              0.1111111111111111,
              "#46039f"
             ],
             [
              0.2222222222222222,
              "#7201a8"
             ],
             [
              0.3333333333333333,
              "#9c179e"
             ],
             [
              0.4444444444444444,
              "#bd3786"
             ],
             [
              0.5555555555555556,
              "#d8576b"
             ],
             [
              0.6666666666666666,
              "#ed7953"
             ],
             [
              0.7777777777777778,
              "#fb9f3a"
             ],
             [
              0.8888888888888888,
              "#fdca26"
             ],
             [
              1,
              "#f0f921"
             ]
            ],
            "type": "heatmapgl"
           }
          ],
          "histogram": [
           {
            "marker": {
             "pattern": {
              "fillmode": "overlay",
              "size": 10,
              "solidity": 0.2
             }
            },
            "type": "histogram"
           }
          ],
          "histogram2d": [
           {
            "colorbar": {
             "outlinewidth": 0,
             "ticks": ""
            },
            "colorscale": [
             [
              0,
              "#0d0887"
             ],
             [
              0.1111111111111111,
              "#46039f"
             ],
             [
              0.2222222222222222,
              "#7201a8"
             ],
             [
              0.3333333333333333,
              "#9c179e"
             ],
             [
              0.4444444444444444,
              "#bd3786"
             ],
             [
              0.5555555555555556,
              "#d8576b"
             ],
             [
              0.6666666666666666,
              "#ed7953"
             ],
             [
              0.7777777777777778,
              "#fb9f3a"
             ],
             [
              0.8888888888888888,
              "#fdca26"
             ],
             [
              1,
              "#f0f921"
             ]
            ],
            "type": "histogram2d"
           }
          ],
          "histogram2dcontour": [
           {
            "colorbar": {
             "outlinewidth": 0,
             "ticks": ""
            },
            "colorscale": [
             [
              0,
              "#0d0887"
             ],
             [
              0.1111111111111111,
              "#46039f"
             ],
             [
              0.2222222222222222,
              "#7201a8"
             ],
             [
              0.3333333333333333,
              "#9c179e"
             ],
             [
              0.4444444444444444,
              "#bd3786"
             ],
             [
              0.5555555555555556,
              "#d8576b"
             ],
             [
              0.6666666666666666,
              "#ed7953"
             ],
             [
              0.7777777777777778,
              "#fb9f3a"
             ],
             [
              0.8888888888888888,
              "#fdca26"
             ],
             [
              1,
              "#f0f921"
             ]
            ],
            "type": "histogram2dcontour"
           }
          ],
          "mesh3d": [
           {
            "colorbar": {
             "outlinewidth": 0,
             "ticks": ""
            },
            "type": "mesh3d"
           }
          ],
          "parcoords": [
           {
            "line": {
             "colorbar": {
              "outlinewidth": 0,
              "ticks": ""
             }
            },
            "type": "parcoords"
           }
          ],
          "pie": [
           {
            "automargin": true,
            "type": "pie"
           }
          ],
          "scatter": [
           {
            "fillpattern": {
             "fillmode": "overlay",
             "size": 10,
             "solidity": 0.2
            },
            "type": "scatter"
           }
          ],
          "scatter3d": [
           {
            "line": {
             "colorbar": {
              "outlinewidth": 0,
              "ticks": ""
             }
            },
            "marker": {
             "colorbar": {
              "outlinewidth": 0,
              "ticks": ""
             }
            },
            "type": "scatter3d"
           }
          ],
          "scattercarpet": [
           {
            "marker": {
             "colorbar": {
              "outlinewidth": 0,
              "ticks": ""
             }
            },
            "type": "scattercarpet"
           }
          ],
          "scattergeo": [
           {
            "marker": {
             "colorbar": {
              "outlinewidth": 0,
              "ticks": ""
             }
            },
            "type": "scattergeo"
           }
          ],
          "scattergl": [
           {
            "marker": {
             "colorbar": {
              "outlinewidth": 0,
              "ticks": ""
             }
            },
            "type": "scattergl"
           }
          ],
          "scattermapbox": [
           {
            "marker": {
             "colorbar": {
              "outlinewidth": 0,
              "ticks": ""
             }
            },
            "type": "scattermapbox"
           }
          ],
          "scatterpolar": [
           {
            "marker": {
             "colorbar": {
              "outlinewidth": 0,
              "ticks": ""
             }
            },
            "type": "scatterpolar"
           }
          ],
          "scatterpolargl": [
           {
            "marker": {
             "colorbar": {
              "outlinewidth": 0,
              "ticks": ""
             }
            },
            "type": "scatterpolargl"
           }
          ],
          "scatterternary": [
           {
            "marker": {
             "colorbar": {
              "outlinewidth": 0,
              "ticks": ""
             }
            },
            "type": "scatterternary"
           }
          ],
          "surface": [
           {
            "colorbar": {
             "outlinewidth": 0,
             "ticks": ""
            },
            "colorscale": [
             [
              0,
              "#0d0887"
             ],
             [
              0.1111111111111111,
              "#46039f"
             ],
             [
              0.2222222222222222,
              "#7201a8"
             ],
             [
              0.3333333333333333,
              "#9c179e"
             ],
             [
              0.4444444444444444,
              "#bd3786"
             ],
             [
              0.5555555555555556,
              "#d8576b"
             ],
             [
              0.6666666666666666,
              "#ed7953"
             ],
             [
              0.7777777777777778,
              "#fb9f3a"
             ],
             [
              0.8888888888888888,
              "#fdca26"
             ],
             [
              1,
              "#f0f921"
             ]
            ],
            "type": "surface"
           }
          ],
          "table": [
           {
            "cells": {
             "fill": {
              "color": "#EBF0F8"
             },
             "line": {
              "color": "white"
             }
            },
            "header": {
             "fill": {
              "color": "#C8D4E3"
             },
             "line": {
              "color": "white"
             }
            },
            "type": "table"
           }
          ]
         },
         "layout": {
          "annotationdefaults": {
           "arrowcolor": "#2a3f5f",
           "arrowhead": 0,
           "arrowwidth": 1
          },
          "autotypenumbers": "strict",
          "coloraxis": {
           "colorbar": {
            "outlinewidth": 0,
            "ticks": ""
           }
          },
          "colorscale": {
           "diverging": [
            [
             0,
             "#8e0152"
            ],
            [
             0.1,
             "#c51b7d"
            ],
            [
             0.2,
             "#de77ae"
            ],
            [
             0.3,
             "#f1b6da"
            ],
            [
             0.4,
             "#fde0ef"
            ],
            [
             0.5,
             "#f7f7f7"
            ],
            [
             0.6,
             "#e6f5d0"
            ],
            [
             0.7,
             "#b8e186"
            ],
            [
             0.8,
             "#7fbc41"
            ],
            [
             0.9,
             "#4d9221"
            ],
            [
             1,
             "#276419"
            ]
           ],
           "sequential": [
            [
             0,
             "#0d0887"
            ],
            [
             0.1111111111111111,
             "#46039f"
            ],
            [
             0.2222222222222222,
             "#7201a8"
            ],
            [
             0.3333333333333333,
             "#9c179e"
            ],
            [
             0.4444444444444444,
             "#bd3786"
            ],
            [
             0.5555555555555556,
             "#d8576b"
            ],
            [
             0.6666666666666666,
             "#ed7953"
            ],
            [
             0.7777777777777778,
             "#fb9f3a"
            ],
            [
             0.8888888888888888,
             "#fdca26"
            ],
            [
             1,
             "#f0f921"
            ]
           ],
           "sequentialminus": [
            [
             0,
             "#0d0887"
            ],
            [
             0.1111111111111111,
             "#46039f"
            ],
            [
             0.2222222222222222,
             "#7201a8"
            ],
            [
             0.3333333333333333,
             "#9c179e"
            ],
            [
             0.4444444444444444,
             "#bd3786"
            ],
            [
             0.5555555555555556,
             "#d8576b"
            ],
            [
             0.6666666666666666,
             "#ed7953"
            ],
            [
             0.7777777777777778,
             "#fb9f3a"
            ],
            [
             0.8888888888888888,
             "#fdca26"
            ],
            [
             1,
             "#f0f921"
            ]
           ]
          },
          "colorway": [
           "#636efa",
           "#EF553B",
           "#00cc96",
           "#ab63fa",
           "#FFA15A",
           "#19d3f3",
           "#FF6692",
           "#B6E880",
           "#FF97FF",
           "#FECB52"
          ],
          "font": {
           "color": "#2a3f5f"
          },
          "geo": {
           "bgcolor": "white",
           "lakecolor": "white",
           "landcolor": "#E5ECF6",
           "showlakes": true,
           "showland": true,
           "subunitcolor": "white"
          },
          "hoverlabel": {
           "align": "left"
          },
          "hovermode": "closest",
          "mapbox": {
           "style": "light"
          },
          "paper_bgcolor": "white",
          "plot_bgcolor": "#E5ECF6",
          "polar": {
           "angularaxis": {
            "gridcolor": "white",
            "linecolor": "white",
            "ticks": ""
           },
           "bgcolor": "#E5ECF6",
           "radialaxis": {
            "gridcolor": "white",
            "linecolor": "white",
            "ticks": ""
           }
          },
          "scene": {
           "xaxis": {
            "backgroundcolor": "#E5ECF6",
            "gridcolor": "white",
            "gridwidth": 2,
            "linecolor": "white",
            "showbackground": true,
            "ticks": "",
            "zerolinecolor": "white"
           },
           "yaxis": {
            "backgroundcolor": "#E5ECF6",
            "gridcolor": "white",
            "gridwidth": 2,
            "linecolor": "white",
            "showbackground": true,
            "ticks": "",
            "zerolinecolor": "white"
           },
           "zaxis": {
            "backgroundcolor": "#E5ECF6",
            "gridcolor": "white",
            "gridwidth": 2,
            "linecolor": "white",
            "showbackground": true,
            "ticks": "",
            "zerolinecolor": "white"
           }
          },
          "shapedefaults": {
           "line": {
            "color": "#2a3f5f"
           }
          },
          "ternary": {
           "aaxis": {
            "gridcolor": "white",
            "linecolor": "white",
            "ticks": ""
           },
           "baxis": {
            "gridcolor": "white",
            "linecolor": "white",
            "ticks": ""
           },
           "bgcolor": "#E5ECF6",
           "caxis": {
            "gridcolor": "white",
            "linecolor": "white",
            "ticks": ""
           }
          },
          "title": {
           "x": 0.05
          },
          "xaxis": {
           "automargin": true,
           "gridcolor": "white",
           "linecolor": "white",
           "ticks": "",
           "title": {
            "standoff": 15
           },
           "zerolinecolor": "white",
           "zerolinewidth": 2
          },
          "yaxis": {
           "automargin": true,
           "gridcolor": "white",
           "linecolor": "white",
           "ticks": "",
           "title": {
            "standoff": 15
           },
           "zerolinecolor": "white",
           "zerolinewidth": 2
          }
         }
        },
        "title": {
         "text": "Optimization History Plot"
        },
        "xaxis": {
         "title": {
          "text": "Trial"
         }
        },
        "yaxis": {
         "title": {
          "text": "Objective Value"
         }
        }
       }
      }
     },
     "metadata": {},
     "output_type": "display_data"
    }
   ],
   "source": [
    "optuna.visualization.plot_optimization_history(study)"
   ]
  },
  {
   "cell_type": "code",
   "execution_count": 109,
   "id": "8577d7c3",
   "metadata": {},
   "outputs": [
    {
     "data": {
      "application/vnd.plotly.v1+json": {
       "config": {
        "plotlyServerURL": "https://plot.ly"
       },
       "data": [
        {
         "cliponaxis": false,
         "hovertemplate": [
          "crossover_probability (FloatDistribution): 0.011532863871291071<extra></extra>",
          "keep_elitism (IntDistribution): 0.016954716703559355<extra></extra>",
          "crossover_type (CategoricalDistribution): 0.023725142309988675<extra></extra>",
          "mutation_type (CategoricalDistribution): 0.023928188565292025<extra></extra>",
          "sol_per_pop (IntDistribution): 0.06199708451263367<extra></extra>",
          "parent_selection_type (CategoricalDistribution): 0.8618620040372352<extra></extra>"
         ],
         "name": "Objective Value",
         "orientation": "h",
         "text": [
          "0.01",
          "0.02",
          "0.02",
          "0.02",
          "0.06",
          "0.86"
         ],
         "textposition": "outside",
         "type": "bar",
         "x": [
          0.011532863871291071,
          0.016954716703559355,
          0.023725142309988675,
          0.023928188565292025,
          0.06199708451263367,
          0.8618620040372352
         ],
         "y": [
          "crossover_probability",
          "keep_elitism",
          "crossover_type",
          "mutation_type",
          "sol_per_pop",
          "parent_selection_type"
         ]
        }
       ],
       "layout": {
        "template": {
         "data": {
          "bar": [
           {
            "error_x": {
             "color": "#2a3f5f"
            },
            "error_y": {
             "color": "#2a3f5f"
            },
            "marker": {
             "line": {
              "color": "#E5ECF6",
              "width": 0.5
             },
             "pattern": {
              "fillmode": "overlay",
              "size": 10,
              "solidity": 0.2
             }
            },
            "type": "bar"
           }
          ],
          "barpolar": [
           {
            "marker": {
             "line": {
              "color": "#E5ECF6",
              "width": 0.5
             },
             "pattern": {
              "fillmode": "overlay",
              "size": 10,
              "solidity": 0.2
             }
            },
            "type": "barpolar"
           }
          ],
          "carpet": [
           {
            "aaxis": {
             "endlinecolor": "#2a3f5f",
             "gridcolor": "white",
             "linecolor": "white",
             "minorgridcolor": "white",
             "startlinecolor": "#2a3f5f"
            },
            "baxis": {
             "endlinecolor": "#2a3f5f",
             "gridcolor": "white",
             "linecolor": "white",
             "minorgridcolor": "white",
             "startlinecolor": "#2a3f5f"
            },
            "type": "carpet"
           }
          ],
          "choropleth": [
           {
            "colorbar": {
             "outlinewidth": 0,
             "ticks": ""
            },
            "type": "choropleth"
           }
          ],
          "contour": [
           {
            "colorbar": {
             "outlinewidth": 0,
             "ticks": ""
            },
            "colorscale": [
             [
              0,
              "#0d0887"
             ],
             [
              0.1111111111111111,
              "#46039f"
             ],
             [
              0.2222222222222222,
              "#7201a8"
             ],
             [
              0.3333333333333333,
              "#9c179e"
             ],
             [
              0.4444444444444444,
              "#bd3786"
             ],
             [
              0.5555555555555556,
              "#d8576b"
             ],
             [
              0.6666666666666666,
              "#ed7953"
             ],
             [
              0.7777777777777778,
              "#fb9f3a"
             ],
             [
              0.8888888888888888,
              "#fdca26"
             ],
             [
              1,
              "#f0f921"
             ]
            ],
            "type": "contour"
           }
          ],
          "contourcarpet": [
           {
            "colorbar": {
             "outlinewidth": 0,
             "ticks": ""
            },
            "type": "contourcarpet"
           }
          ],
          "heatmap": [
           {
            "colorbar": {
             "outlinewidth": 0,
             "ticks": ""
            },
            "colorscale": [
             [
              0,
              "#0d0887"
             ],
             [
              0.1111111111111111,
              "#46039f"
             ],
             [
              0.2222222222222222,
              "#7201a8"
             ],
             [
              0.3333333333333333,
              "#9c179e"
             ],
             [
              0.4444444444444444,
              "#bd3786"
             ],
             [
              0.5555555555555556,
              "#d8576b"
             ],
             [
              0.6666666666666666,
              "#ed7953"
             ],
             [
              0.7777777777777778,
              "#fb9f3a"
             ],
             [
              0.8888888888888888,
              "#fdca26"
             ],
             [
              1,
              "#f0f921"
             ]
            ],
            "type": "heatmap"
           }
          ],
          "heatmapgl": [
           {
            "colorbar": {
             "outlinewidth": 0,
             "ticks": ""
            },
            "colorscale": [
             [
              0,
              "#0d0887"
             ],
             [
              0.1111111111111111,
              "#46039f"
             ],
             [
              0.2222222222222222,
              "#7201a8"
             ],
             [
              0.3333333333333333,
              "#9c179e"
             ],
             [
              0.4444444444444444,
              "#bd3786"
             ],
             [
              0.5555555555555556,
              "#d8576b"
             ],
             [
              0.6666666666666666,
              "#ed7953"
             ],
             [
              0.7777777777777778,
              "#fb9f3a"
             ],
             [
              0.8888888888888888,
              "#fdca26"
             ],
             [
              1,
              "#f0f921"
             ]
            ],
            "type": "heatmapgl"
           }
          ],
          "histogram": [
           {
            "marker": {
             "pattern": {
              "fillmode": "overlay",
              "size": 10,
              "solidity": 0.2
             }
            },
            "type": "histogram"
           }
          ],
          "histogram2d": [
           {
            "colorbar": {
             "outlinewidth": 0,
             "ticks": ""
            },
            "colorscale": [
             [
              0,
              "#0d0887"
             ],
             [
              0.1111111111111111,
              "#46039f"
             ],
             [
              0.2222222222222222,
              "#7201a8"
             ],
             [
              0.3333333333333333,
              "#9c179e"
             ],
             [
              0.4444444444444444,
              "#bd3786"
             ],
             [
              0.5555555555555556,
              "#d8576b"
             ],
             [
              0.6666666666666666,
              "#ed7953"
             ],
             [
              0.7777777777777778,
              "#fb9f3a"
             ],
             [
              0.8888888888888888,
              "#fdca26"
             ],
             [
              1,
              "#f0f921"
             ]
            ],
            "type": "histogram2d"
           }
          ],
          "histogram2dcontour": [
           {
            "colorbar": {
             "outlinewidth": 0,
             "ticks": ""
            },
            "colorscale": [
             [
              0,
              "#0d0887"
             ],
             [
              0.1111111111111111,
              "#46039f"
             ],
             [
              0.2222222222222222,
              "#7201a8"
             ],
             [
              0.3333333333333333,
              "#9c179e"
             ],
             [
              0.4444444444444444,
              "#bd3786"
             ],
             [
              0.5555555555555556,
              "#d8576b"
             ],
             [
              0.6666666666666666,
              "#ed7953"
             ],
             [
              0.7777777777777778,
              "#fb9f3a"
             ],
             [
              0.8888888888888888,
              "#fdca26"
             ],
             [
              1,
              "#f0f921"
             ]
            ],
            "type": "histogram2dcontour"
           }
          ],
          "mesh3d": [
           {
            "colorbar": {
             "outlinewidth": 0,
             "ticks": ""
            },
            "type": "mesh3d"
           }
          ],
          "parcoords": [
           {
            "line": {
             "colorbar": {
              "outlinewidth": 0,
              "ticks": ""
             }
            },
            "type": "parcoords"
           }
          ],
          "pie": [
           {
            "automargin": true,
            "type": "pie"
           }
          ],
          "scatter": [
           {
            "fillpattern": {
             "fillmode": "overlay",
             "size": 10,
             "solidity": 0.2
            },
            "type": "scatter"
           }
          ],
          "scatter3d": [
           {
            "line": {
             "colorbar": {
              "outlinewidth": 0,
              "ticks": ""
             }
            },
            "marker": {
             "colorbar": {
              "outlinewidth": 0,
              "ticks": ""
             }
            },
            "type": "scatter3d"
           }
          ],
          "scattercarpet": [
           {
            "marker": {
             "colorbar": {
              "outlinewidth": 0,
              "ticks": ""
             }
            },
            "type": "scattercarpet"
           }
          ],
          "scattergeo": [
           {
            "marker": {
             "colorbar": {
              "outlinewidth": 0,
              "ticks": ""
             }
            },
            "type": "scattergeo"
           }
          ],
          "scattergl": [
           {
            "marker": {
             "colorbar": {
              "outlinewidth": 0,
              "ticks": ""
             }
            },
            "type": "scattergl"
           }
          ],
          "scattermapbox": [
           {
            "marker": {
             "colorbar": {
              "outlinewidth": 0,
              "ticks": ""
             }
            },
            "type": "scattermapbox"
           }
          ],
          "scatterpolar": [
           {
            "marker": {
             "colorbar": {
              "outlinewidth": 0,
              "ticks": ""
             }
            },
            "type": "scatterpolar"
           }
          ],
          "scatterpolargl": [
           {
            "marker": {
             "colorbar": {
              "outlinewidth": 0,
              "ticks": ""
             }
            },
            "type": "scatterpolargl"
           }
          ],
          "scatterternary": [
           {
            "marker": {
             "colorbar": {
              "outlinewidth": 0,
              "ticks": ""
             }
            },
            "type": "scatterternary"
           }
          ],
          "surface": [
           {
            "colorbar": {
             "outlinewidth": 0,
             "ticks": ""
            },
            "colorscale": [
             [
              0,
              "#0d0887"
             ],
             [
              0.1111111111111111,
              "#46039f"
             ],
             [
              0.2222222222222222,
              "#7201a8"
             ],
             [
              0.3333333333333333,
              "#9c179e"
             ],
             [
              0.4444444444444444,
              "#bd3786"
             ],
             [
              0.5555555555555556,
              "#d8576b"
             ],
             [
              0.6666666666666666,
              "#ed7953"
             ],
             [
              0.7777777777777778,
              "#fb9f3a"
             ],
             [
              0.8888888888888888,
              "#fdca26"
             ],
             [
              1,
              "#f0f921"
             ]
            ],
            "type": "surface"
           }
          ],
          "table": [
           {
            "cells": {
             "fill": {
              "color": "#EBF0F8"
             },
             "line": {
              "color": "white"
             }
            },
            "header": {
             "fill": {
              "color": "#C8D4E3"
             },
             "line": {
              "color": "white"
             }
            },
            "type": "table"
           }
          ]
         },
         "layout": {
          "annotationdefaults": {
           "arrowcolor": "#2a3f5f",
           "arrowhead": 0,
           "arrowwidth": 1
          },
          "autotypenumbers": "strict",
          "coloraxis": {
           "colorbar": {
            "outlinewidth": 0,
            "ticks": ""
           }
          },
          "colorscale": {
           "diverging": [
            [
             0,
             "#8e0152"
            ],
            [
             0.1,
             "#c51b7d"
            ],
            [
             0.2,
             "#de77ae"
            ],
            [
             0.3,
             "#f1b6da"
            ],
            [
             0.4,
             "#fde0ef"
            ],
            [
             0.5,
             "#f7f7f7"
            ],
            [
             0.6,
             "#e6f5d0"
            ],
            [
             0.7,
             "#b8e186"
            ],
            [
             0.8,
             "#7fbc41"
            ],
            [
             0.9,
             "#4d9221"
            ],
            [
             1,
             "#276419"
            ]
           ],
           "sequential": [
            [
             0,
             "#0d0887"
            ],
            [
             0.1111111111111111,
             "#46039f"
            ],
            [
             0.2222222222222222,
             "#7201a8"
            ],
            [
             0.3333333333333333,
             "#9c179e"
            ],
            [
             0.4444444444444444,
             "#bd3786"
            ],
            [
             0.5555555555555556,
             "#d8576b"
            ],
            [
             0.6666666666666666,
             "#ed7953"
            ],
            [
             0.7777777777777778,
             "#fb9f3a"
            ],
            [
             0.8888888888888888,
             "#fdca26"
            ],
            [
             1,
             "#f0f921"
            ]
           ],
           "sequentialminus": [
            [
             0,
             "#0d0887"
            ],
            [
             0.1111111111111111,
             "#46039f"
            ],
            [
             0.2222222222222222,
             "#7201a8"
            ],
            [
             0.3333333333333333,
             "#9c179e"
            ],
            [
             0.4444444444444444,
             "#bd3786"
            ],
            [
             0.5555555555555556,
             "#d8576b"
            ],
            [
             0.6666666666666666,
             "#ed7953"
            ],
            [
             0.7777777777777778,
             "#fb9f3a"
            ],
            [
             0.8888888888888888,
             "#fdca26"
            ],
            [
             1,
             "#f0f921"
            ]
           ]
          },
          "colorway": [
           "#636efa",
           "#EF553B",
           "#00cc96",
           "#ab63fa",
           "#FFA15A",
           "#19d3f3",
           "#FF6692",
           "#B6E880",
           "#FF97FF",
           "#FECB52"
          ],
          "font": {
           "color": "#2a3f5f"
          },
          "geo": {
           "bgcolor": "white",
           "lakecolor": "white",
           "landcolor": "#E5ECF6",
           "showlakes": true,
           "showland": true,
           "subunitcolor": "white"
          },
          "hoverlabel": {
           "align": "left"
          },
          "hovermode": "closest",
          "mapbox": {
           "style": "light"
          },
          "paper_bgcolor": "white",
          "plot_bgcolor": "#E5ECF6",
          "polar": {
           "angularaxis": {
            "gridcolor": "white",
            "linecolor": "white",
            "ticks": ""
           },
           "bgcolor": "#E5ECF6",
           "radialaxis": {
            "gridcolor": "white",
            "linecolor": "white",
            "ticks": ""
           }
          },
          "scene": {
           "xaxis": {
            "backgroundcolor": "#E5ECF6",
            "gridcolor": "white",
            "gridwidth": 2,
            "linecolor": "white",
            "showbackground": true,
            "ticks": "",
            "zerolinecolor": "white"
           },
           "yaxis": {
            "backgroundcolor": "#E5ECF6",
            "gridcolor": "white",
            "gridwidth": 2,
            "linecolor": "white",
            "showbackground": true,
            "ticks": "",
            "zerolinecolor": "white"
           },
           "zaxis": {
            "backgroundcolor": "#E5ECF6",
            "gridcolor": "white",
            "gridwidth": 2,
            "linecolor": "white",
            "showbackground": true,
            "ticks": "",
            "zerolinecolor": "white"
           }
          },
          "shapedefaults": {
           "line": {
            "color": "#2a3f5f"
           }
          },
          "ternary": {
           "aaxis": {
            "gridcolor": "white",
            "linecolor": "white",
            "ticks": ""
           },
           "baxis": {
            "gridcolor": "white",
            "linecolor": "white",
            "ticks": ""
           },
           "bgcolor": "#E5ECF6",
           "caxis": {
            "gridcolor": "white",
            "linecolor": "white",
            "ticks": ""
           }
          },
          "title": {
           "x": 0.05
          },
          "xaxis": {
           "automargin": true,
           "gridcolor": "white",
           "linecolor": "white",
           "ticks": "",
           "title": {
            "standoff": 15
           },
           "zerolinecolor": "white",
           "zerolinewidth": 2
          },
          "yaxis": {
           "automargin": true,
           "gridcolor": "white",
           "linecolor": "white",
           "ticks": "",
           "title": {
            "standoff": 15
           },
           "zerolinecolor": "white",
           "zerolinewidth": 2
          }
         }
        },
        "title": {
         "text": "Hyperparameter Importances"
        },
        "xaxis": {
         "title": {
          "text": "Hyperparameter Importance"
         }
        },
        "yaxis": {
         "title": {
          "text": "Hyperparameter"
         }
        }
       }
      }
     },
     "metadata": {},
     "output_type": "display_data"
    }
   ],
   "source": [
    "optuna.visualization.plot_param_importances(study)"
   ]
  },
  {
   "cell_type": "code",
   "execution_count": null,
   "id": "7ae8044c",
   "metadata": {},
   "outputs": [
    {
     "name": "stderr",
     "output_type": "stream",
     "text": [
      "100%|██████████| 31/31 [03:24<00:00,  6.59s/it]\n",
      "100%|██████████| 1/1 [03:24<00:00, 204.24s/it]\n"
     ]
    }
   ],
   "source": [
    "skr_list = []\n",
    "\n",
    "df = make_df()\n",
    "\n",
    "L_limit = 150\n",
    "n = 31\n",
    "\n",
    "num_iter = 1\n",
    "\n",
    "for i in tqdm(range(num_iter)) : \n",
    "    for L in tqdm(np.linspace(0, L_limit, n)) :\n",
    "        ga_instance = define_ga(co_type = study.best_trial.params['crossover_type'], \n",
    "                                mu_type = study.best_trial.params['mutation_type'], \n",
    "                                sel_type = study.best_trial.params['parent_selection_type'], \n",
    "                                gen = 100,\n",
    "                                num_parents_mating = study.best_trial.params['num_parents_mating'], \n",
    "                                sol_per_pop = study.best_trial.params['sol_per_pop'],\n",
    "                                keep_parents = study.best_trial.params['keep_parents'], \n",
    "                                keep_elitism = study.best_trial.params['keep_elitism'], \n",
    "                                crossover_probability = study.best_trial.params['crossover_probability'], \n",
    "                                mutation_probability = None,\n",
    "                                mutation_percent_genes = study.best_trial.params['mutation_percent_genes'], \n",
    "                                make_df = True, df = df, random_seed = None)\n",
    "        ga_instance.run()\n",
    "        solution, solution_fitness, solution_idx = ga_instance.best_solution()\n",
    "\n",
    "skr_list = df.groupby('L').max('SKR')['SKR']"
   ]
  },
  {
   "cell_type": "code",
   "execution_count": null,
   "id": "b13c4f29",
   "metadata": {},
   "outputs": [
    {
     "name": "stdout",
     "output_type": "stream",
     "text": [
      "29 [-0.94370122  0.2371438 ]\n",
      "30 [-0.30619088 -0.34761846]\n"
     ]
    },
    {
     "data": {
      "image/png": "[encoded data removed]",
      "text/plain": [
       "<Figure size 1000x600 with 1 Axes>"
      ]
     },
     "metadata": {},
     "output_type": "display_data"
    }
   ],
   "source": [
    "plot_SKR(skr_list)"
   ]
  },
  {
   "cell_type": "code",
   "execution_count": null,
   "id": "0651f12f",
   "metadata": {},
   "outputs": [],
   "source": [
    "print(solution)\n",
    "s=calc_SKR(3, solution,solution_idx )\n",
    "print(s)"
   ]
  }
 ],
 "metadata": {
  "kernelspec": {
   "display_name": "venv (3.10.8)",
   "language": "python",
   "name": "python3"
  },
  "language_info": {
   "codemirror_mode": {
    "name": "ipython",
    "version": 3
   },
   "file_extension": ".py",
   "mimetype": "text/x-python",
   "name": "python",
   "nbconvert_exporter": "python",
   "pygments_lexer": "ipython3",
   "version": "3.10.8"
  }
 },
 "nbformat": 4,
 "nbformat_minor": 5
}
